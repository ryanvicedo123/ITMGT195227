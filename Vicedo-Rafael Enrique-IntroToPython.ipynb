{
 "cells": [
  {
   "cell_type": "markdown",
   "metadata": {},
   "source": [
    "### 195227\n",
    "### VICEDO\n",
    "### 2 BS ME"
   ]
  },
  {
   "cell_type": "code",
   "execution_count": null,
   "metadata": {},
   "outputs": [],
   "source": [
    "while True: #start of loop\n",
    "    try:\n",
    "        num1=float(input(\"Please enter the 1st number:\")) #collects 1st number\n",
    "        num2=float(input(\"Please enter the 2nd number\")) #collects 2nd number\n",
    "        num3=float(input(\"Please enter the 3rd number\")) #collects 3rd number\n",
    "    except ValueError:\n",
    "        print(\"Please enter a valid number!\")\n",
    "        continue\n",
    "\n",
    "    def three_num_avg(num1, num2, num3): #defined function that calc. average of 3 numbers\n",
    "        \"This function will take a sum of 3 numbers and give its average\"\n",
    "        average=(num1+num2+num3)/3\n",
    "        print(\"Calculation Success! The average is\",average)\n",
    "        return\n",
    "\n",
    "    three_num_avg(num1, num2, num3,) #prints defined function result\n",
    "    continue #endless loop"
   ]
  },
  {
   "cell_type": "code",
   "execution_count": null,
   "metadata": {},
   "outputs": [],
   "source": []
  }
 ],
 "metadata": {
  "kernelspec": {
   "display_name": "Python 3",
   "language": "python",
   "name": "python3"
  },
  "language_info": {
   "codemirror_mode": {
    "name": "ipython",
    "version": 3
   },
   "file_extension": ".py",
   "mimetype": "text/x-python",
   "name": "python",
   "nbconvert_exporter": "python",
   "pygments_lexer": "ipython3",
   "version": "3.7.6"
  }
 },
 "nbformat": 4,
 "nbformat_minor": 4
}
