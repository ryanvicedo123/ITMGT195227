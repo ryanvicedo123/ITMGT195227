{
 "cells": [
  {
   "cell_type": "code",
   "execution_count": 28,
   "metadata": {},
   "outputs": [
    {
     "name": "stdout",
     "output_type": "stream",
     "text": [
      "========================= WELCOME ========================\n",
      "Please use uppercase letters when entering ticker symbols\n",
      "Enter a company ticker for graph analysis: 2GO\n",
      "Do you want to choose more companies?\n",
      " [Y] = Yes\t [Other] = No\n",
      "y\n",
      "Enter a company ticker for graph analysis: kjadlfkja0919321313\n",
      "Please enter a valid ticker\n",
      "Enter a company ticker for graph analysis: 13a9fha2h3hdajkfdafkdjfkfd\n",
      "Please enter a valid ticker\n",
      "Enter a company ticker for graph analysis: JDLKFJADKLSJDKLAJS\n",
      "Please enter a valid ticker\n",
      "Enter a company ticker for graph analysis: JFC\n",
      "Do you want to choose more companies?\n",
      " [Y] = Yes\t [Other] = No\n",
      "n\n"
     ]
    }
   ],
   "source": [
    "tickerlist = ['2GO', '8990P', 'AB', 'ABA', 'ABG', 'ABS', 'ABSP', 'AC', 'ACEPH', 'ACEX', 'ACPB1', 'ACR',\n",
    "              'AEV', 'AGI', 'ALCO', 'ALCPC', 'ALHI', 'ALI', 'ALLHC', 'ANI', 'ANS', 'AP', 'APB2R', 'APC', \n",
    "              'APL', 'APO', 'APVI', 'APX', 'AR', 'ARA', 'AT', 'ATI', 'ATN', 'ATNB', 'AUB', 'AXLM', 'BC', \n",
    "              'BCOR', 'BDO', 'BEL', 'BHI', 'BKR', 'BLOOM', 'BPI', 'BRN', 'BSC', 'C', 'CA', 'CAB', 'CEB', \n",
    "              'CEI', 'CHI', 'CHIB', 'CHP', 'CIP', 'CLI', 'CNPF', 'COAL', 'COL', 'COSCO', 'CPG', 'CPGP', \n",
    "              'CPM', 'CROWN', 'CSB', 'DAVIN', 'DD', 'DDPR', 'DELM', 'DFNN', 'DITO', 'DIZ', 'DMC', 'DMW', \n",
    "              'DNL', 'DWC', 'EAGLE', 'ECP', 'EEI', 'ELI', 'EMP', 'EURO', 'EVER', 'EW', 'FAF', 'FB', 'FDC', \n",
    "              'FFI', 'FGEN', 'FGENG', 'FJP', 'FLI', 'FMETF', 'FNI', 'FOOD', 'FPH', 'FRUIT', 'GEO', 'GERI', \n",
    "              'GLO', 'GLOPP', 'GMA7', 'GMAP', 'GREEN', 'GSMI', 'GTCAP', 'GTPPB', 'HLCM', 'HOME', 'HOUSE', \n",
    "              'HVN', 'I', 'ICT', 'IDC', 'IMI', 'ION', 'IRC', 'IS', 'JAS', 'JFC', 'JGS', 'KPPI', 'LBC', 'LC', \n",
    "              'LCB', 'LIHC', 'LMG', 'LOTO', 'LPZ', 'LR', 'LRW', 'LTG', 'MA', 'MAC', 'MACAY', 'MAH', 'MAHB', \n",
    "              'MARC', 'MAXS', 'MB', 'MBC', 'MBT', 'MED', 'MEG', 'MER', 'MFIN', 'MM', 'MPI', 'MRC', 'MRSGI', \n",
    "              'MWC', 'MWIDE', 'MWP', 'NI', 'NIKL', 'NOW', 'NRCP', 'OM', 'OPM', 'OPMB', 'ORE', 'OV', 'PA', \n",
    "              'PAL', 'PBB', 'PCOR', 'PERC', 'PGOLD', 'PHA', 'PHES', 'PHN', 'PHR', 'PIZZA', 'PLC', 'PNB', \n",
    "              'PNX', 'PNX3A', 'PNX4', 'PRC', 'PRF2B', 'PRF3A', 'PRIM', 'PRMX', 'PSB', 'PSE', 'PX', 'PXP', \n",
    "              'RCB', 'RCI', 'RFM', 'RLC', 'RLT', 'ROX', 'RRHI', 'SBS', 'SCC', 'SECB', 'SEVN', 'SFI', 'SGI', \n",
    "              'SGP', 'SHLPH', 'SHNG', 'SLI', 'SM', 'SMC', 'SMC2C', 'SMC2D', 'SMC2F', 'SMC2G', 'SMC2H', \n",
    "              'SMC2I', 'SMPH', 'SOC', 'SPC', 'SSI', 'SSP', 'STI', 'STR', 'SUN', 'T', 'TBGI', 'TECH', 'TEL', \n",
    "              'TFC', 'TFHI', 'TUGS', 'UBP', 'UPM', 'URC', 'VITA', 'VLL', 'VUL', 'WEB', 'WIN', 'WLCON', 'WPI', \n",
    "              'X', 'ZHI', 'PSEi', 'ALL', 'FIN', 'IND', 'HDG', 'PRO', 'SVC', 'M-O']\n",
    "\n",
    "usertickerlist = []\n",
    "askmore = \"y\"\n",
    "\n",
    "print(\"========================= WELCOME ========================\\nPlease use uppercase letters when entering ticker symbols\")\n",
    "\n",
    "while askmore == \"y\" or askmore == \"Y\": \n",
    "    try:\n",
    "        userticker = str(input(\"Enter a company ticker for graph analysis: \"))\n",
    "        if userticker not in tickerlist:\n",
    "            print(\"Please enter a valid ticker\")\n",
    "            continue\n",
    "        else:\n",
    "            usertickerlist.append(userticker)\n",
    "            \n",
    "        askmore = str(input(\"Do you want to choose more companies?\\n [Y] = Yes\\t [Other] = No\\n\"))\n",
    "        if askmore == \"Y\" or askmore == \"y\":\n",
    "            continue\n",
    "        else:\n",
    "            break\n",
    "            \n",
    "    except ValueError:\n",
    "        print(\"Please enter a valid input.\")\n",
    "        continue\n",
    "        \n",
    "        \n"
   ]
  },
  {
   "cell_type": "code",
   "execution_count": null,
   "metadata": {},
   "outputs": [],
   "source": []
  }
 ],
 "metadata": {
  "kernelspec": {
   "display_name": "Python 3",
   "language": "python",
   "name": "python3"
  },
  "language_info": {
   "codemirror_mode": {
    "name": "ipython",
    "version": 3
   },
   "file_extension": ".py",
   "mimetype": "text/x-python",
   "name": "python",
   "nbconvert_exporter": "python",
   "pygments_lexer": "ipython3",
   "version": "3.7.6"
  }
 },
 "nbformat": 4,
 "nbformat_minor": 4
}
