{
 "cells": [
  {
   "cell_type": "markdown",
   "metadata": {},
   "source": [
    "# <center> 195227 - Vicedo, Rafael Enrique G.\n",
    "###  <center>End of Module 2 & 3 Assessment"
   ]
  },
  {
   "cell_type": "markdown",
   "metadata": {},
   "source": [
    "## 1. Turning Tables\n",
    "###### How do I code using HTML ... it's been so long I forgot....\n",
    "<table>\n",
    "    <tr class=lightyellowrow><td>1</td><td>1</td>\n",
    "    <tr><td>2</td><td>4</td>\n",
    "    <tr class=lightyellowrow><td>1</td><td>1</td>\n",
    "</table>"
   ]
  },
  {
   "cell_type": "code",
   "execution_count": 91,
   "metadata": {
    "scrolled": true
   },
   "outputs": [
    {
     "ename": "SyntaxError",
     "evalue": "EOF while scanning triple-quoted string literal (<ipython-input-91-8667a2c12ad9>, line 6)",
     "output_type": "error",
     "traceback": [
      "\u001b[0;36m  File \u001b[0;32m\"<ipython-input-91-8667a2c12ad9>\"\u001b[0;36m, line \u001b[0;32m6\u001b[0m\n\u001b[0;31m    </table>\u001b[0m\n\u001b[0m            \n^\u001b[0m\n\u001b[0;31mSyntaxError\u001b[0m\u001b[0;31m:\u001b[0m EOF while scanning triple-quoted string literal\n"
     ]
    }
   ],
   "source": [
    "import webbrowser\n",
    "table=int(input(\"Enter a number of rows:\"))\n",
    "for i in table:\"\"\"\"\n",
    "    <table>\n",
    "    <tr class=lightyellowrow><td>i</td><td>i**2</td>\n",
    "    </table>"
   ]
  },
  {
   "cell_type": "markdown",
   "metadata": {},
   "source": [
    "## 2. Dating Norms"
   ]
  },
  {
   "cell_type": "code",
   "execution_count": 83,
   "metadata": {},
   "outputs": [
    {
     "name": "stdout",
     "output_type": "stream",
     "text": [
      "Day:29\n",
      "Month:2\n",
      "Year:2001\n",
      "Date is not valid\n"
     ]
    }
   ],
   "source": [
    "# Code includes data validation for each question. If the entries are satisfactory, the \n",
    "# code will figure out if the date is a valid date in existence or not.\n",
    "\n",
    "thirtyone_days=[\"1\",\"3\",\"5\",\"7\",\"8\",\"10\",\"12\"]\n",
    "thirty_days=[\"4\",\"6\",\"9\",\"11\"]\n",
    "monthsoftheyear={\"1\":\"January\",\"2\":\"February\",\"3\":\"March\",\"April\":\"4\",\"5\":\"May\",\"6\":\"June\",\"7\":\"July\",\"8\":\"August\",\"9\":\"September\",\"10\":\"October\",\"11\":\"November\",\"12\":\"December\"}\n",
    "days=0\n",
    "leap=0\n",
    "\n",
    "while True:\n",
    "    try:\n",
    "        dayask=int(input(\"Day:\"))\n",
    "        daystring=str(dayask)\n",
    "        if len(daystring)>3 or dayask>31 or dayask<1:\n",
    "            print(\"Please enter a valid date.\")\n",
    "            continue\n",
    "        else:\n",
    "            break\n",
    "    except ValueError:\n",
    "        print(\"Please enter a valid date.\")\n",
    "        continue\n",
    "    break\n",
    "\n",
    "while True:\n",
    "    try:\n",
    "        monthask=int(input(\"Month:\"))\n",
    "        if monthask>12 or monthask<1:\n",
    "            print(\"Please enter a valid month.\")\n",
    "            continue\n",
    "        else:\n",
    "            break\n",
    "    except ValueError:\n",
    "        print(\"Please enter a valid month.\")\n",
    "        continue\n",
    "    break\n",
    "\n",
    "while True:\n",
    "    try:\n",
    "        yearask=int(input(\"Year:\"))\n",
    "        yearstring=str(yearask)\n",
    "        if len(yearstring)>4 or len(yearstring)<4 or yearask<1:\n",
    "            print(\"Please enter a valid year.\")\n",
    "            continue\n",
    "        else:\n",
    "            break\n",
    "    except ValueError:\n",
    "        print(\"Please enter a valid year.\")\n",
    "        continue\n",
    "    break\n",
    "\n",
    "\n",
    "othernums=[\"4\",\"5\",\"6\",\"7\",\"8\",\"9\",\"0\"]\n",
    "date=str(dayask)\n",
    "if len(date)==2 and \"1\" in date[0]:                                \n",
    "    y=\"th\"                                                          \n",
    "elif (len(date)==1 and \"1\" in date[0]) or (len(date)==2 and \"1\" in date[0]):                   \n",
    "    y=\"st\"                                                          \n",
    "elif ((len(date))==1 and \"2\" in date[0]) or (len(date)==2 and \"2\" in date[0]):\n",
    "    y=\"nd\"\n",
    "elif ((len(date))==1 and \"3\" in date[0]) or (len(date)==1 and \"3\" in date[0]):\n",
    "    y=\"rd\"\n",
    "elif  date[1] in othernums:\n",
    "    y=\"th\"\n",
    "if yearask%100==0 and yearask%400==0:\n",
    "    leap=1\n",
    "            \n",
    "month=monthsoftheyear[str(monthask)]\n",
    "if month in thirtyone_days:\n",
    "    days=31\n",
    "elif month in thirty_days:\n",
    "    days=30\n",
    "elif monthask==2 and leap==1:\n",
    "    days=29\n",
    "elif monthask==2 and leap==0:\n",
    "    days=28\n",
    "        \n",
    "if (dayask>days or dayask<1):\n",
    "    print(\"Date is not valid\")\n",
    "else:\n",
    "    print(\"It is the\",dayask,\"{} day of the month\".format(y),month,\"of the year\",yearask)\n",
    "            \n"
   ]
  },
  {
   "cell_type": "markdown",
   "metadata": {},
   "source": [
    "## 3. Followers"
   ]
  },
  {
   "cell_type": "code",
   "execution_count": 21,
   "metadata": {},
   "outputs": [
    {
     "data": {
      "text/plain": [
       "False"
      ]
     },
     "execution_count": 21,
     "metadata": {},
     "output_type": "execute_result"
    }
   ],
   "source": [
    "# x + (x+1) + (x+2) = y\n",
    "# y = 3x+3\n",
    "# (y-3)/3 = x\n",
    "# If the remainder is 0, then y is an obedient number\n",
    "# If the remainder is a fraction, y is NOT obedient\n",
    "\n",
    "# Some obedient numbers: 6, 9, 12, 18, 30, ...\n",
    "def obedient(number):\n",
    "    if (number-3)%3==0:\n",
    "        return True\n",
    "    else:\n",
    "        return False\n",
    "obedient(30)\n",
    "obedient(6)\n",
    "obedient(9)\n",
    "obedient(11)"
   ]
  },
  {
   "cell_type": "markdown",
   "metadata": {},
   "source": [
    "## 4. Go Forth and Multipy"
   ]
  },
  {
   "cell_type": "code",
   "execution_count": 84,
   "metadata": {},
   "outputs": [
    {
     "name": "stdout",
     "output_type": "stream",
     "text": [
      "1 \t 2 \t 3 \t 4 \t 5 \t 6 \t 7 \t 8 \t 9 \t 10 \t 11 \t 12 \t \n",
      "\n",
      "2 \t 4 \t 6 \t 8 \t 10 \t 12 \t 14 \t 16 \t 18 \t 20 \t 22 \t 24 \t \n",
      "\n",
      "3 \t 6 \t 9 \t 12 \t 15 \t 18 \t 21 \t 24 \t 27 \t 30 \t 33 \t 36 \t \n",
      "\n",
      "4 \t 8 \t 12 \t 16 \t 20 \t 24 \t 28 \t 32 \t 36 \t 40 \t 44 \t 48 \t \n",
      "\n",
      "5 \t 10 \t 15 \t 20 \t 25 \t 30 \t 35 \t 40 \t 45 \t 50 \t 55 \t 60 \t \n",
      "\n",
      "6 \t 12 \t 18 \t 24 \t 30 \t 36 \t 42 \t 48 \t 54 \t 60 \t 66 \t 72 \t \n",
      "\n",
      "7 \t 14 \t 21 \t 28 \t 35 \t 42 \t 49 \t 56 \t 63 \t 70 \t 77 \t 84 \t \n",
      "\n",
      "8 \t 16 \t 24 \t 32 \t 40 \t 48 \t 56 \t 64 \t 72 \t 80 \t 88 \t 96 \t \n",
      "\n",
      "9 \t 18 \t 27 \t 36 \t 45 \t 54 \t 63 \t 72 \t 81 \t 90 \t 99 \t 108 \t \n",
      "\n",
      "10 \t 20 \t 30 \t 40 \t 50 \t 60 \t 70 \t 80 \t 90 \t 100 \t 110 \t 120 \t \n",
      "\n",
      "11 \t 22 \t 33 \t 44 \t 55 \t 66 \t 77 \t 88 \t 99 \t 110 \t 121 \t 132 \t \n",
      "\n",
      "12 \t 24 \t 36 \t 48 \t 60 \t 72 \t 84 \t 96 \t 108 \t 120 \t 132 \t 144 \t \n",
      "\n"
     ]
    }
   ],
   "source": [
    "def multtable(size):\n",
    "    multiplier=0\n",
    "    rows=0\n",
    "    while rows<size:\n",
    "        integer=1\n",
    "        columns=0\n",
    "        multiplier+=1\n",
    "        while columns<size:\n",
    "            print((multiplier*(integer)),\"\\t\",end=\" \")\n",
    "            integer+=1\n",
    "            columns+=1\n",
    "        print(\"\\n\")\n",
    "        rows+=1\n",
    "        continue\n",
    "multtable(12)"
   ]
  },
  {
   "cell_type": "markdown",
   "metadata": {},
   "source": [
    "## 5. Avatar"
   ]
  },
  {
   "cell_type": "code",
   "execution_count": 92,
   "metadata": {},
   "outputs": [
    {
     "name": "stdout",
     "output_type": "stream",
     "text": [
      "Do you prefer (a)mountains, (b) the city, or (c) the beach?c\n",
      "Do you prefer (a)yoghurt, (b) ice cream, or (c) gelato?a\n",
      "Do you prefer (a)reading, (b) singing, or (c) writing?d\n",
      "Sorry, you inputted a wrong letter. Please start again.\n",
      "Do you prefer (a)reading, (b) singing, or (c) writing?b\n",
      "Do you prefer (a)sweet, (b) salty, or (c) spicy food?a\n",
      "Do you prefer (a)cats, (b) dogs, or (c) fish?c\n",
      "Your element is Water\n"
     ]
    }
   ],
   "source": [
    "# I've attempted to use a defined funcion, but I couldn't apply it. I'm not quite sure \n",
    "# how to create one with differing questions and having a consistent point system for \n",
    "# differing letters...\n",
    "\n",
    "fire=0\n",
    "water=0\n",
    "earth=0\n",
    "choices=[\"a\",\"b\",\"c\"]\n",
    "\n",
    "# ==================================================================================================================\n",
    "# Question 1\n",
    "while True:\n",
    "    try:\n",
    "        question1=str(input(\"Do you prefer (a)mountains, (b) the city, or (c) the beach?\"))\n",
    "        if len(question1)>1 or question1 not in choices:\n",
    "            print(\"Sorry, you inputted a wrong letter. Please start again.\")\n",
    "            continue\n",
    "        else:\n",
    "            if ord(question1)==97:\n",
    "                fire+=1\n",
    "            elif ord(question1)==98:\n",
    "                earth+=1\n",
    "            elif ord(question1)==99:\n",
    "                water+=1\n",
    "            break\n",
    "    except ValueError:\n",
    "        print(\"Sorry, you inputted a character letter. Please start again.\")\n",
    "        continue\n",
    "    break\n",
    "\n",
    "# ==================================================================================================================\n",
    "# Question 2\n",
    "while True:\n",
    "    try:\n",
    "        question2=str(input(\"Do you prefer (a)yoghurt, (b) ice cream, or (c) gelato?\"))\n",
    "        if len(question2)>1 or question2 not in choices:\n",
    "            print(\"Sorry, you inputted a wrong letter. Please start again.\")\n",
    "            continue\n",
    "        else:\n",
    "            if ord(question2)==97:\n",
    "                earth+=1\n",
    "            elif ord(question2)==98:\n",
    "                water+=1\n",
    "            elif ord(question2)==99:\n",
    "                fire+=1\n",
    "            break\n",
    "    except ValueError:\n",
    "        print(\"Sorry, you inputted a character letter. Please start again.\")\n",
    "        continue\n",
    "    break\n",
    "\n",
    "# ==================================================================================================================\n",
    "# Question 3\n",
    "while True:\n",
    "    try:\n",
    "        question3=str(input(\"Do you prefer (a)reading, (b) singing, or (c) writing?\"))\n",
    "        if len(question3)>1 or question3 not in choices:\n",
    "            print(\"Sorry, you inputted a wrong letter. Please start again.\")\n",
    "            continue\n",
    "        else:\n",
    "            if ord(question3)==97:\n",
    "                water+=1\n",
    "            elif ord(question3)==98:\n",
    "                fire+=1\n",
    "            elif ord(question3)==99:\n",
    "                earth+=1\n",
    "            break\n",
    "    except ValueError:\n",
    "        print(\"Sorry, you inputted a character letter. Please start again.\")\n",
    "        continue\n",
    "    break\n",
    "\n",
    "# ==================================================================================================================\n",
    "# Question 4\n",
    "while True:\n",
    "    try:\n",
    "        question4=str(input(\"Do you prefer (a)sweet, (b) salty, or (c) spicy food?\"))\n",
    "        if len(question4)>1 or question4 not in choices:\n",
    "            print(\"Sorry, you inputted a wrong letter. Please start again.\")\n",
    "            continue\n",
    "        else:\n",
    "            if ord(question4)==97:\n",
    "                earth+=1\n",
    "            elif ord(question4)==98:\n",
    "                water+=1\n",
    "            elif ord(question4)==99:\n",
    "                fire+=1\n",
    "            break\n",
    "    except ValueError:\n",
    "        print(\"Sorry, you inputted a character letter. Please start again.\")\n",
    "        continue\n",
    "    break\n",
    "\n",
    "# ==================================================================================================================\n",
    "# Question 5\n",
    "while True:\n",
    "    try:\n",
    "        question5=str(input(\"Do you prefer (a)cats, (b) dogs, or (c) fish?\"))\n",
    "        if len(question5)>1 or question5 not in choices:\n",
    "            print(\"Sorry, you inputted a wrong letter. Please start again.\")\n",
    "            continue\n",
    "        else:\n",
    "            if ord(question5)==97:\n",
    "                earth+=1\n",
    "            elif ord(question5)==98:\n",
    "                fire+=1\n",
    "            elif ord(question5)==99:\n",
    "                water+=1\n",
    "            break\n",
    "    except ValueError:\n",
    "        print(\"Sorry, you inputted a character letter. Please start again.\")\n",
    "        continue\n",
    "    break\n",
    "\n",
    "# Tie breaker code\n",
    "                                                    # SEQUENCE TESTS:\n",
    "if fire==earth:                                     # TEST : A C C A C\n",
    "    print(\"Your element is Earth\")              \n",
    "elif fire==water:                                   # TEST : A C A B A\n",
    "    print(\"Your element is Fire\")\n",
    "elif earth==water:                                  # TEST : B A A B B\n",
    "    print(\"Your element is Water\")\n",
    "else:\n",
    "    if fire>water and fire>earth:\n",
    "        print(\"Your element is Fire\")\n",
    "    elif water>fire and water>earth:\n",
    "        print(\"Your element is Water\")\n",
    "    elif earth>fire and earth>water:\n",
    "        print(\"Your element is Earth\")\n",
    "#print(fire)\n",
    "#print(water)\n",
    "#print(earth)\n",
    "\n",
    "        \n",
    "        "
   ]
  },
  {
   "cell_type": "code",
   "execution_count": null,
   "metadata": {},
   "outputs": [],
   "source": []
  }
 ],
 "metadata": {
  "kernelspec": {
   "display_name": "Python 3",
   "language": "python",
   "name": "python3"
  },
  "language_info": {
   "codemirror_mode": {
    "name": "ipython",
    "version": 3
   },
   "file_extension": ".py",
   "mimetype": "text/x-python",
   "name": "python",
   "nbconvert_exporter": "python",
   "pygments_lexer": "ipython3",
   "version": "3.7.6"
  }
 },
 "nbformat": 4,
 "nbformat_minor": 4
}
