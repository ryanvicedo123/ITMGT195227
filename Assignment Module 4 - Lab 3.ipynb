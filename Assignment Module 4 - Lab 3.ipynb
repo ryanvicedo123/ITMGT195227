{
 "cells": [
  {
   "cell_type": "markdown",
   "metadata": {},
   "source": [
    "# <center> 195227 - VICEDO, Rafael Enrique G.\n",
    "# <center> Assignment Module 4 - Lab 3"
   ]
  },
  {
   "cell_type": "markdown",
   "metadata": {},
   "source": [
    "## Problem 1 - Social Media Example"
   ]
  },
  {
   "cell_type": "code",
   "execution_count": 354,
   "metadata": {},
   "outputs": [
    {
     "data": {
      "text/plain": [
       "'followed by'"
      ]
     },
     "execution_count": 354,
     "metadata": {},
     "output_type": "execute_result"
    }
   ],
   "source": [
    "# First person is [ACTION] by Second Person!\n",
    "\n",
    "social_graph = {\n",
    "    \"@bongolpoc\":{\"first_name\":\"Joselito\",\n",
    "                  \"last_name\":\"Olpoc\",\n",
    "                  \"following\":[\n",
    "                  ]\n",
    "    },\n",
    "    \"@joaquin\":  {\"first_name\":\"Joaquin\",\n",
    "                  \"last_name\":\"Gonzales\",\n",
    "                  \"following\":[\n",
    "                      \"@chums\",\"@jobenilagan\"\n",
    "                  ]\n",
    "    },\n",
    "    \"@chums\" : {\"first_name\":\"Matthew\",\n",
    "                \"last_name\":\"Uy\",\n",
    "                \"following\":[\n",
    "                    \"@bongolpoc\",\"@miketan\",\"@rudyang\",\"@joeilagan\"\n",
    "                ]\n",
    "    },\n",
    "    \"@jobenilagan\":{\"first_name\":\"Joben\",\n",
    "                   \"last_name\":\"Ilagan\",\n",
    "                   \"following\":[\n",
    "                    \"@eeebeee\",\"@joeilagan\",\"@chums\",\"@joaquin\"\n",
    "                   ]\n",
    "    },\n",
    "    \"@joeilagan\":{\"first_name\":\"Joe\",\n",
    "                  \"last_name\":\"Ilagan\",\n",
    "                  \"following\":[\n",
    "                    \"@eeebeee\",\"@jobenilagan\",\"@chums\"\n",
    "                  ]\n",
    "    },\n",
    "    \"@eeebeee\":  {\"first_name\":\"Elizabeth\",\n",
    "                  \"last_name\":\"Ilagan\",\n",
    "                  \"following\":[\n",
    "                    \"@jobenilagan\",\"@joeilagan\"\n",
    "                  ]\n",
    "    },\n",
    "}\n",
    "\n",
    "def relationship_status(from_member, to_member):\n",
    "    \n",
    "    from_friendlist = social_graph[from_member][\"following\"]    # Friends list of 1st entry\n",
    "    to_friendlist = social_graph[to_member][\"following\"]        # Friends list of 2nd entry\n",
    "\n",
    "    # If 1st entry and 2nd entry have each other in their lists, \"friends\" is printed\n",
    "    if from_member in to_friendlist and to_member in from_friendlist:\n",
    "        return(\"friends\")\n",
    "    \n",
    "    # If the 1st entry is in 2nd entry friendlist but not vice versa, then \"followed by\" is printed\n",
    "    elif from_member in to_friendlist and to_member not in from_friendlist:\n",
    "        return(\"followed by\")\n",
    "\n",
    "    # If the 2nd entry is in 1st entry friendlist but not vice versa, the \"following\" is printed\n",
    "    elif to_member in from_friendlist and from_member not in to_friendlist:\n",
    "        return(\"following\")\n",
    "    \n",
    "    # If neither entries are in each other's friendlist, nothing is printed\n",
    "    else:\n",
    "        return None\n",
    "    \n",
    "relationship_status(\"@chums\",\"@joaquin\")"
   ]
  },
  {
   "cell_type": "markdown",
   "metadata": {},
   "source": [
    "## Problem 2 - Tic Tac Toe "
   ]
  },
  {
   "cell_type": "code",
   "execution_count": 353,
   "metadata": {
    "scrolled": true
   },
   "outputs": [
    {
     "name": "stdout",
     "output_type": "stream",
     "text": [
      "None\n"
     ]
    }
   ],
   "source": [
    "board1 = [\n",
    "['X','X','O'],\n",
    "['O','X','O'],              # Here X should win\n",
    "['O','','X'],\n",
    "]\n",
    "\n",
    "board2 = [\n",
    "['X','X','O'],\n",
    "['O','X','O'],              # Here X should win\n",
    "['','O','X'],\n",
    "]\n",
    "\n",
    "board3 = [\n",
    "['O','X','O'],\n",
    "['','O','X'],               # Here O should win\n",
    "['X','X','O'],\n",
    "]\n",
    "\n",
    "board4 = [\n",
    "['X','X','X'],\n",
    "['O','X','O'],              # Here X should win\n",
    "['O','','O'],\n",
    "]\n",
    "\n",
    "board5 = [\n",
    "['X','X','O'],\n",
    "['O','X','O'],             # Here O should win\n",
    "['X','','O'],\n",
    "]\n",
    "\n",
    "board6 = [\n",
    "['X','X','O'],\n",
    "['O','X','O'],            # No one should win (None)\n",
    "['X','',''],\n",
    "]\n",
    "\n",
    "def get_winner(board):\n",
    "    \n",
    "    # Horizontal check - 3 Possible lists for X & O. Each element in the board is evaluated using all() to get\n",
    "    # True or False, then appended to a horizontal list.\n",
    "    horizontal_x = []\n",
    "    horizontal_o = []\n",
    "    for x in board:\n",
    "        horizontal_x.append(all(h==\"X\" for h in x))\n",
    "        horizontal_o.append(all(h==\"O\" for h in x))\n",
    "\n",
    "    # Vertical check - 3 Possible lists for X & O. Each element in the board is evaluated using all() to get\n",
    "    # True or False, then appended to a vertical list.\n",
    "    verticals = list(zip(*board))\n",
    "    vertical_x = []\n",
    "    vertical_o = []\n",
    "    for x in verticals:\n",
    "        vertical_x.append(all(v==\"X\" for v in x))\n",
    "        vertical_o.append(all(v==\"O\" for v in x))\n",
    "\n",
    "    # Diagonal check - 2 possibilities for X & O through main diagonals - TL to BR (down) or BL to TR (up)\n",
    "    diagonaldown=[board[i][i] for i, v in enumerate(board)]\n",
    "    diagonalup=[board[2-i][i] for i, v in enumerate(board)]\n",
    "    \n",
    "    # Top left to bottom right check for X and O\n",
    "    diagonal_down_x = (all(d==\"X\" for d in diagonaldown))\n",
    "    diagonal_down_o = (all(d==\"O\" for d in diagonaldown))\n",
    "    \n",
    "    # Bottom left to top right check for X and O\n",
    "    diagonal_up_x = (all(d==\"X\" for d in diagonalup))\n",
    "    diagonal_up_o = (all(d==\"O\" for d in diagonalup))\n",
    "    \n",
    "    # Combining all directions of X and O into a list to see if there are any True values\n",
    "    true_x = horizontal_x + vertical_x + [diagonal_down_x,diagonal_up_x]\n",
    "    true_o = horizontal_o + vertical_o + [diagonal_down_o,diagonal_up_o]\n",
    "    \n",
    "    # If any of the values are True for any direction of X, then X wins\n",
    "    if True in true_x:\n",
    "        winner=\"X\"\n",
    "    \n",
    "    # If any of the values are True in any direction of O, then O wins\n",
    "    elif True in true_o:\n",
    "        winner=\"O\"\n",
    "    \n",
    "    # If all other values are False in both lists, then winner is None\n",
    "    else:\n",
    "        winner = None\n",
    "\n",
    "    print(winner)\n",
    "    \n",
    "    # order = X,X,O,X,O,None\n",
    "    \n",
    "get_winner(board6)"
   ]
  },
  {
   "cell_type": "markdown",
   "metadata": {},
   "source": [
    "## Problem 3 - ETA"
   ]
  },
  {
   "cell_type": "code",
   "execution_count": 356,
   "metadata": {},
   "outputs": [
    {
     "name": "stdout",
     "output_type": "stream",
     "text": [
      "Enter source:up\n",
      "Enter destination:up\n"
     ]
    },
    {
     "data": {
      "text/plain": [
       "100"
      ]
     },
     "execution_count": 356,
     "metadata": {},
     "output_type": "execute_result"
    }
   ],
   "source": [
    "locations = {\n",
    "    \"admu\":{\n",
    "        \"name\":\"Ateneo de Manila University\",\n",
    "        \"latitude\":14.6394557,\n",
    "        \"longitude\":121.0758975        \n",
    "    },\n",
    "    \"upd\":{\n",
    "        \"name\":\"University of the Philippines-Diliman Campus\",\n",
    "        \"latitude\":14.6538519,\n",
    "        \"longitude\":121.0663348\n",
    "    },\n",
    "    \"dlsu\":{\n",
    "        \"name\":\"De La Salle University-Taft\",\n",
    "        \"latitude\":14.5647346,\n",
    "        \"longitude\":120.9909876\n",
    "\n",
    "    },\n",
    "}\n",
    "\n",
    "legs = {\n",
    "     (\"upd\",\"admu\"):{\n",
    "         \"travel_time_mins\":10\n",
    "     },\n",
    "     (\"admu\",\"dlsu\"):{\n",
    "         \"travel_time_mins\":35\n",
    "     },\n",
    "     (\"dlsu\",\"upd\"):{\n",
    "         \"travel_time_mins\":55\n",
    "     }\n",
    "}\n",
    "\n",
    "def eta(source,destination):  \n",
    "    pass\n",
    "    # write your code here\n",
    "    \n",
    "    # Timelist collates the times where the source and destination are\n",
    "    timelist = []\n",
    "    \n",
    "    # legs_keys create a list of the keys in legs\n",
    "    legs_keys = list(legs.keys())\n",
    "    \n",
    "    # User entries\n",
    "    source = str(input(\"Enter source:\"))\n",
    "    destination = str(input(\"Enter destination:\"))\n",
    "    \n",
    "    # Conditions for times of travel:\n",
    "    \n",
    "    # If the source and destination are the same (travel is in a one round loop between schools)\n",
    "    if source==destination:\n",
    "        for x in legs_keys:\n",
    "            timelist.append(legs[x][\"travel_time_mins\"])\n",
    "    \n",
    "    # If the source and destination are different\n",
    "    else:\n",
    "    \n",
    "    # Gets the travel time from the first position in legs key for source.   \n",
    "        for x in legs_keys:\n",
    "            if source in x[0]:\n",
    "                timelist.append(legs[x][\"travel_time_mins\"])\n",
    "            else:\n",
    "                continue\n",
    "    \n",
    "    # Gets the travel time from the second position in legs key for destination.\n",
    "        for x in legs_keys:\n",
    "            if destination in x[1]:\n",
    "                timelist.append(legs[x][\"travel_time_mins\"]) \n",
    "    \n",
    "    return sum(timelist)\n",
    "        \n",
    "eta(source,destination)"
   ]
  },
  {
   "cell_type": "code",
   "execution_count": null,
   "metadata": {},
   "outputs": [],
   "source": []
  }
 ],
 "metadata": {
  "kernelspec": {
   "display_name": "Python 3",
   "language": "python",
   "name": "python3"
  },
  "language_info": {
   "codemirror_mode": {
    "name": "ipython",
    "version": 3
   },
   "file_extension": ".py",
   "mimetype": "text/x-python",
   "name": "python",
   "nbconvert_exporter": "python",
   "pygments_lexer": "ipython3",
   "version": "3.7.6"
  }
 },
 "nbformat": 4,
 "nbformat_minor": 4
}
