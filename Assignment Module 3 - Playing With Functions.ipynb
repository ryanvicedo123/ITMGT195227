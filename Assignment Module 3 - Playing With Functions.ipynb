{
 "cells": [
  {
   "cell_type": "markdown",
   "metadata": {},
   "source": [
    "# <center> 195227 - VICEDO, Rafael Enrique G.\n",
    "# <center> Assignment - Playing With Functions"
   ]
  },
  {
   "cell_type": "markdown",
   "metadata": {},
   "source": [
    "# 1. Circle Area"
   ]
  },
  {
   "cell_type": "code",
   "execution_count": 2,
   "metadata": {},
   "outputs": [
    {
     "data": {
      "text/plain": [
       "314.15999999999997"
      ]
     },
     "execution_count": 2,
     "metadata": {},
     "output_type": "execute_result"
    }
   ],
   "source": [
    "# Area of circle = (Circumference**2) / 4pi\n",
    "\n",
    "def circle_area(circumference):\n",
    "    pi=3.1416\n",
    "    area=(circumference**2)/4*pi\n",
    "    return area\n",
    "circle_area(20)\n"
   ]
  },
  {
   "cell_type": "markdown",
   "metadata": {},
   "source": [
    "# 2. Reverse String"
   ]
  },
  {
   "cell_type": "code",
   "execution_count": 99,
   "metadata": {},
   "outputs": [
    {
     "name": "stdout",
     "output_type": "stream",
     "text": [
      "olleH"
     ]
    }
   ],
   "source": [
    "def reverseString(entry):\n",
    "    word=str(entry)\n",
    "    letters=[]\n",
    "    if len(word)<5 or len(word)>5:\n",
    "        print(\"Word is not 5 characters\")\n",
    "        return\n",
    "    else:\n",
    "        i=-1\n",
    "        while i>-6:\n",
    "            print(word[i],end=\"\")\n",
    "            i-=1\n",
    "        return\n",
    "\n",
    "reverseString(\"Hello\")"
   ]
  },
  {
   "cell_type": "markdown",
   "metadata": {},
   "source": [
    "# 3. Summation of Numbers Below"
   ]
  },
  {
   "cell_type": "code",
   "execution_count": 104,
   "metadata": {},
   "outputs": [
    {
     "name": "stdout",
     "output_type": "stream",
     "text": [
      "1 + 2 + 3 + 4 + 5 + 6 + 7 + 8 + 9 + 10 + 11 + 12 + 13 + 14 + 15 + + 15 = 120\n"
     ]
    }
   ],
   "source": [
    "import math\n",
    "def backAddition(entry):\n",
    "    number=int(entry)\n",
    "    i=0\n",
    "    while i<number:\n",
    "        i+=1\n",
    "        print(i,\"+ \",end=\"\")\n",
    "    answer=(i*(i+1))/2\n",
    "    if i==number:\n",
    "        return print(\"+\",number,\"=\",int(answer))\n",
    "\n",
    "backAddition(15)"
   ]
  },
  {
   "cell_type": "markdown",
   "metadata": {},
   "source": [
    "# 4. Sum of Squares & Square of Sums"
   ]
  },
  {
   "cell_type": "code",
   "execution_count": 108,
   "metadata": {},
   "outputs": [
    {
     "name": "stdout",
     "output_type": "stream",
     "text": [
      "2640\n",
      "25164150\n"
     ]
    }
   ],
   "source": [
    "def sumSquares(entry):\n",
    "    number=int(entry)\n",
    "    i=1\n",
    "    j=1\n",
    "    current_i=0\n",
    "    current_j=0\n",
    "    while i<=entry:\n",
    "        current_i=current_i+(i**2)\n",
    "        i+=1\n",
    "    while j<=entry:\n",
    "        current_j=current_j+j\n",
    "        j+=1\n",
    "    return (current_j)**2-current_i\n",
    "\n",
    "print(sumSquares(10))     # Numbers from 1 to 10\n",
    "print(sumSquares(100))    # Numbers from 1 to 100"
   ]
  },
  {
   "cell_type": "markdown",
   "metadata": {},
   "source": [
    "# 5. Payment Function"
   ]
  },
  {
   "cell_type": "code",
   "execution_count": 110,
   "metadata": {},
   "outputs": [
    {
     "name": "stdout",
     "output_type": "stream",
     "text": [
      "Enter your cents:1024\n",
      "\n",
      " 10 \n",
      " 0 \n",
      " 2 \n",
      " 0 \n",
      " 4\n"
     ]
    }
   ],
   "source": [
    "# Assume that the Point of Sale system is loaded with \n",
    "# 1 cent, 5 cents, 10 cents, 25 cents and 1 peso coins\n",
    "\n",
    "# The number of 1 peso, 25 cents, 10 cents, 5 cents \n",
    "# and 1 cent coins respectively.\n",
    "\n",
    "def change(cents):\n",
    "    peso_count=0\n",
    "    twentyfive_count=0\n",
    "    ten_count=0\n",
    "    five_count=0\n",
    "    one_count=0\n",
    "    \n",
    "    while cents!=0:\n",
    "        \n",
    "        # Conditions if the change is exact value of denomination\n",
    "        if cents==100:\n",
    "            peso_count=(cents//100)\n",
    "            cents=0\n",
    "        elif cents==25:\n",
    "            twentyfive_count=(cents//25)\n",
    "            cents=0\n",
    "        elif cents==10:\n",
    "            ten_count=(cents//10)\n",
    "            cents=0\n",
    "        elif cents==5:\n",
    "            five_count=(cents//5)\n",
    "            cents=0\n",
    "        elif cents==1:\n",
    "            one_count=(cents//1)\n",
    "            cents=0\n",
    "        \n",
    "        # Filtering system of calculating change\n",
    "        elif cents>100:\n",
    "            peso_count=(cents//100)\n",
    "            cents=cents%100\n",
    "        elif cents<100 and cents>25:\n",
    "            twentyfive_count=(cents//25)\n",
    "            cents=cents%25\n",
    "        elif cents<100 and cents<25 and cents>10:\n",
    "            ten_count=(cents//10)\n",
    "            cents=cents%10\n",
    "        elif cents<100 and cents<25 and cents<10 and cents>5:\n",
    "            five_count=(cents//5)\n",
    "            cents=cents%5\n",
    "        elif cents<100 and cents<25 and cents<10 and cents<5 and cents>1:\n",
    "            one_count=int(cents/1)\n",
    "            cents=0\n",
    "            break\n",
    "    return print(\"\\n\",peso_count,\"\\n\",twentyfive_count,\"\\n\",ten_count,\"\\n\",five_count,\"\\n\",one_count)\n",
    "    \n",
    "ask_cents=int(input(\"Enter your cents:\"))\n",
    "change(ask_cents)"
   ]
  },
  {
   "cell_type": "code",
   "execution_count": null,
   "metadata": {},
   "outputs": [],
   "source": []
  }
 ],
 "metadata": {
  "kernelspec": {
   "display_name": "Python 3",
   "language": "python",
   "name": "python3"
  },
  "language_info": {
   "codemirror_mode": {
    "name": "ipython",
    "version": 3
   },
   "file_extension": ".py",
   "mimetype": "text/x-python",
   "name": "python",
   "nbconvert_exporter": "python",
   "pygments_lexer": "ipython3",
   "version": "3.7.6"
  }
 },
 "nbformat": 4,
 "nbformat_minor": 4
}
