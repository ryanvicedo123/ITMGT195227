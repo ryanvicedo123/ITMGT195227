{
 "cells": [
  {
   "cell_type": "markdown",
   "metadata": {},
   "source": [
    "### 195227\n",
    "### Vicedo\n",
    "### 2 BS ME"
   ]
  },
  {
   "cell_type": "code",
   "execution_count": null,
   "metadata": {},
   "outputs": [],
   "source": [
    "### PROJECT 1 - USD TO PHP ###\n",
    "usd=0\n",
    "php=0\n",
    "rate=0\n",
    "#The current conversion rate, as of Jully 11, 2020 is 49.48 Php to the Dollar\n",
    "while True:\n",
    "    try:\n",
    "        askrate=float(input(\"Please input the current conversion in Php: [Php per 1$]\\n\"))\n",
    "        rate=askrate\n",
    "        askconvt=int(input(\"Input the amount of USD to convert:\\n\"))\n",
    "        usd=askconvt\n",
    "    except ValueError:\n",
    "        print(\"Please enter a valid number.\\n\")\n",
    "        continue\n",
    "    break\n",
    "\n",
    "def dollars_to_pesos(usd, rate):\n",
    "    \"this function will convert an amount of USD to PHP\"\n",
    "    amount=usd*rate\n",
    "    print(\"Calculation success! Your conversion is $\",usd,\"=\",amount,\"Php\")\n",
    "    return\n",
    "dollars_to_pesos(usd, rate)"
   ]
  },
  {
   "cell_type": "code",
   "execution_count": null,
   "metadata": {},
   "outputs": [],
   "source": [
    "### PROJECT 2 - OPERATIONS ON A & B ###\n",
    "a=0\n",
    "b=0\n",
    "while True:\n",
    "    try:\n",
    "        ask1=int(input(\"Please enter your first number\\n\"))\n",
    "        a=ask1\n",
    "        ask2=int(input(\"Please enter your second number\\n\"))\n",
    "        b=ask2\n",
    "    except ValueError:\n",
    "        print(\"Please enter a number bae :3\\n\")\n",
    "        continue\n",
    "    break      \n",
    "def operations_func(a, b):\n",
    "    \"this is a function that outputs 5 operations with no. a and b\"\n",
    "    addition=a+b\n",
    "    subtract=a-b\n",
    "    product=a*b\n",
    "    floorquot=a//b\n",
    "    quotient=a/b\n",
    "    print(\"\\n\\nOperations success!\\n\",addition,\"\\n\",subtract,\"\\n\",product,\"\\n\",floorquot,\"\\n\",quotient)\n",
    "    return\n",
    "operations_func(a,b)"
   ]
  },
  {
   "cell_type": "code",
   "execution_count": null,
   "metadata": {},
   "outputs": [],
   "source": [
    "### PROJECT 3 - BMI CALCULATION ###\n",
    "kg=0\n",
    "cm=0\n",
    "while True:\n",
    "    try:\n",
    "        askweight=float(input(\"What is your weight in kilograms [kg] ?\\n\"))\n",
    "        kg=askweight\n",
    "        askheight=float(input(\"What is your height in centimeters [cm] ?\\n\"))\n",
    "        cm=askheight\n",
    "    except ValueError:\n",
    "        print(\"\\nPlease input a valid weight/height! >:{\")\n",
    "        continue\n",
    "    break\n",
    "def compute_bmi(kg, cm):\n",
    "    \"this function will compute bmi\"\n",
    "    bmi=kg/((cm/100)**2)\n",
    "    print(\"Your body to mass index [BMI] is\",bmi)\n",
    "    return\n",
    "compute_bmi(kg, cm)"
   ]
  },
  {
   "cell_type": "code",
   "execution_count": null,
   "metadata": {},
   "outputs": [],
   "source": []
  }
 ],
 "metadata": {
  "kernelspec": {
   "display_name": "Python 3",
   "language": "python",
   "name": "python3"
  },
  "language_info": {
   "codemirror_mode": {
    "name": "ipython",
    "version": 3
   },
   "file_extension": ".py",
   "mimetype": "text/x-python",
   "name": "python",
   "nbconvert_exporter": "python",
   "pygments_lexer": "ipython3",
   "version": "3.7.6"
  }
 },
 "nbformat": 4,
 "nbformat_minor": 4
}
